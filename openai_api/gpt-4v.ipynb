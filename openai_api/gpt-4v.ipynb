{
 "cells": [
  {
   "cell_type": "markdown",
   "id": "b4b6a552-b7f0-433d-9a70-61c4fcc52d5d",
   "metadata": {},
   "source": [
    "# 快速入门 GPT-4 Vison\n",
    "\n",
    "从历史上看，语言模型系统仅接受**文本**作为输入。但是单一的输入形式，限制了大模型的应用落地范围。\n",
    "\n",
    "随着技术发展，OpenAI 开发的 GPT-4 Turbo with Vision（简称 GPT-4V）允许模型接收**图像**作为输入，并回答关于它们的问题。\n",
    "\n",
    "📢注意，目前在 Assistants API 中使用 GPT-4 时还不支持图像输入。"
   ]
  },
  {
   "cell_type": "code",
   "execution_count": 2,
   "id": "bf8689b2-94f2-4a35-a332-9ffed0a56aca",
   "metadata": {},
   "outputs": [
    {
     "name": "stdout",
     "output_type": "stream",
     "text": [
      "Choice(finish_reason='stop', index=0, logprobs=None, message=ChatCompletionMessage(content='这幅图展示了一个宁静的自然景观。图中可以看到一条木板路延伸到远方，两旁是茂密的绿色草地和灌木，背景中有一些树木和蓝天白云。整个场景给人一种宁静和平的感觉，适合散步和放松。\\n\\n这条木板路可能是某个自然保护区或公园的一部分，专为游客设计，方便他们在自然环境中散步，同时保护生态环境不被破坏。天空中散布着一些白云，阳光明媚，草地和灌木的绿色在阳光下显得格外鲜艳。这种景色常见于夏季或春季的早晨或下午，天气晴朗时更是风景如画。', role='assistant', function_call=None, tool_calls=None))\n"
     ]
    }
   ],
   "source": [
    "from openai import OpenAI\n",
    "\n",
    "client = OpenAI(base_url=\"https://api.xiaoai.plus/v1\",api_key=\"sk-IrIgzFee3yL0i2ccD5Bb6820566843EcBcDd1b94B034D01a\")\n",
    "\n",
    "response = client.chat.completions.create(\n",
    "  model=\"gpt-4-turbo\",\n",
    "  messages=[\n",
    "    {\n",
    "      \"role\": \"user\",\n",
    "      \"content\": [\n",
    "        {\"type\": \"text\", \"text\": \"介绍下这幅图?\"},\n",
    "        {\n",
    "          \"type\": \"image_url\",\n",
    "          \"image_url\": {\n",
    "            \"url\": \"https://upload.wikimedia.org/wikipedia/commons/thumb/d/dd/Gfp-wisconsin-madison-the-nature-boardwalk.jpg/2560px-Gfp-wisconsin-madison-the-nature-boardwalk.jpg\",\n",
    "          },\n",
    "        },\n",
    "      ],\n",
    "    }\n",
    "  ],\n",
    "  max_tokens=300,\n",
    ")\n",
    "\n",
    "print(response.choices[0])"
   ]
  },
  {
   "cell_type": "markdown",
   "id": "3a701c56-0a2a-4dea-b458-234150b84ff2",
   "metadata": {},
   "source": [
    "## 使用 GPT-4V 识别线上图像（URL）\n",
    "\n",
    "![image_sample](https://upload.wikimedia.org/wikipedia/commons/thumb/d/dd/Gfp-wisconsin-madison-the-nature-boardwalk.jpg/2560px-Gfp-wisconsin-madison-the-nature-boardwalk.jpg)"
   ]
  },
  {
   "cell_type": "code",
   "execution_count": 3,
   "id": "9bcc9026-7485-428f-8269-ea9ae41405cb",
   "metadata": {},
   "outputs": [
    {
     "data": {
      "text/plain": [
       "'这幅图展示了一个宁静的自然景观。图中可以看到一条木板路延伸到远方，两旁是茂密的绿色草地和灌木，背景中有一些树木和蓝天白云。整个场景给人一种宁静和平的感觉，适合散步和放松。\\n\\n这条木板路可能是某个自然保护区或公园的一部分，专为游客设计，方便他们在自然环境中散步，同时保护生态环境不被破坏。天空中散布着一些白云，阳光明媚，草地和灌木的绿色在阳光下显得格外鲜艳。这种景色常见于夏季或春季的早晨或下午，天气晴朗时更是风景如画。'"
      ]
     },
     "execution_count": 3,
     "metadata": {},
     "output_type": "execute_result"
    }
   ],
   "source": [
    "response.choices[0].message.content"
   ]
  },
  {
   "cell_type": "markdown",
   "id": "7fb50a14-fa14-4c63-9f81-b98b0f65d9d9",
   "metadata": {},
   "source": [
    "### 封装成一个函数 query_image_description"
   ]
  },
  {
   "cell_type": "code",
   "execution_count": 9,
   "id": "c1ca5428-c7e1-4d7e-91f1-d4a05e95ac51",
   "metadata": {},
   "outputs": [],
   "source": [
    "def query_image_description(url, prompt=\"介绍下这幅图?\"):\n",
    "    client = OpenAI(base_url=\"https://api.xiaoai.plus/v1\",api_key=\"sk-IrIgzFee3yL0i2ccD5Bb6820566843EcBcDd1b94B034D01a\")  # 初始化 OpenAI 客户端\n",
    "    \n",
    "    # 发送请求给 OpenAI 的聊天模型\n",
    "    response = client.chat.completions.create(\n",
    "        model=\"gpt-4-turbo\",  # 指定使用的模型\n",
    "        messages=[\n",
    "            {\n",
    "                \"role\": \"user\",\n",
    "                \"content\": [\n",
    "                    {\"type\": \"text\", \"text\": prompt},\n",
    "                    {\"type\": \"image_url\", \"image_url\": {\"url\": url}},\n",
    "                ],\n",
    "            }\n",
    "        ],\n",
    "        max_tokens=300,\n",
    "    )\n",
    "    \n",
    "    # 返回模型的响应\n",
    "    return response.choices[0].message.content\n"
   ]
  },
  {
   "cell_type": "markdown",
   "id": "a0d0aceb-7cc5-4da1-b6db-e47716ba145a",
   "metadata": {},
   "source": [
    "### 调用函数测试\n",
    "\n",
    "![meme_0](https://p6.itc.cn/q_70/images03/20200602/0c267a0d3d814c9783659eb956969ba1.jpeg)"
   ]
  },
  {
   "cell_type": "code",
   "execution_count": 10,
   "id": "454abb5c-49d3-42e6-867e-f44e25af5e0e",
   "metadata": {},
   "outputs": [
    {
     "name": "stdout",
     "output_type": "stream",
     "text": [
      "这幅图展示了两个对比强烈的狗狗形象，分别代表16岁时的自己和工作后的自己，用幽默的方式表达了青春时期的雄心壮志和工作后的疲惫现实。\n",
      "\n",
      "### 图中内容：\n",
      "\n",
      "**左边的狗（16岁的我）**：\n",
      "1. **图像描述**：狗的形象非常强壮，肌肉发达。\n",
      "2. **文字内容**：\n",
      "   - “我前途一片光明” （My future is bright）\n",
      "   - “身体素质高” （High physical quality）\n",
      "   - “未来可期” （Future is promising）\n",
      "   - “八九点钟的太阳” （Sun at 8 or 9 o'clock）\n",
      "\n",
      "**右边的狗（工作后的我）**：\n",
      "1. **图像描述**：狗看起来比较虚弱，坐着，显得很疲惫。\n",
      "2. **文字内容**：\n",
      "   - “好累好困好想睡懒觉” （So tired, so sleepy, I want to sleep in）\n",
      "   - “重大伤病不要靠近我啊啊啊啊” （Stay away from me if you have serious injuries, ah ah ah）\n",
      "   - “我好弱小啊啊啊啊” （I am so weak, ah ah ah）\n",
      "   - “我就是普通人” （I am just an ordinary person）\n",
      "\n",
      "### 解释：\n",
      "这幅图用强壮的狗和疲惫的狗来对比不同阶段的状态，讽刺了从青春年少充满希望和梦想，到工作后现实生活的无奈和疲倦。年轻时我们对未来充满信心和能量，但在经历了工作的压力和生活的琐事后，变得疲惫不堪，甚至失去了曾经的锐气和激情。\n",
      "\n",
      "这种对比非常贴近许多人的现实生活，幽默中带着些许辛酸，引发共鸣。\n"
     ]
    }
   ],
   "source": [
    "image_url = \"https://p6.itc.cn/q_70/images03/20200602/0c267a0d3d814c9783659eb956969ba1.jpeg\"\n",
    "content = query_image_description(image_url)\n",
    "print(content)"
   ]
  },
  {
   "cell_type": "code",
   "execution_count": null,
   "id": "2471306a-84e2-4793-b065-0741fbe57262",
   "metadata": {},
   "outputs": [],
   "source": []
  },
  {
   "cell_type": "code",
   "execution_count": null,
   "id": "af79850f-83b5-49c4-a3f3-f2c01a28f458",
   "metadata": {},
   "outputs": [],
   "source": []
  },
  {
   "cell_type": "markdown",
   "id": "63ae05bd-872c-4638-8259-df4f420aaa1d",
   "metadata": {},
   "source": [
    "### 使用 GPT-4V 识别本地图像文件（Base64编码）\n"
   ]
  },
  {
   "cell_type": "code",
   "execution_count": 13,
   "id": "1e83da68-d387-46da-8236-78fc607d1fab",
   "metadata": {},
   "outputs": [],
   "source": [
    "from openai import OpenAI\n",
    "import base64\n",
    "import requests\n",
    "import json\n",
    "\n",
    "client = OpenAI(base_url=\"https://api.xiaoai.plus/v1\",api_key=\"sk-IrIgzFee3yL0i2ccD5Bb6820566843EcBcDd1b94B034D01a\")  # 初始化 OpenAI 客户端\n",
    "\n",
    "def query_base64_image_description(image_path, prompt=\"解释下图里的内容？\", max_tokens=1000):\n",
    "\n",
    "    # 实现 Base64 编码\n",
    "    def encode_image(path):\n",
    "        with open(path, \"rb\") as image_file:\n",
    "            return base64.b64encode(image_file.read()).decode('utf-8')\n",
    "\n",
    "    # 获取图像的 Base64 编码字符串\n",
    "    base64_image = encode_image(image_path)\n",
    "\n",
    "    # 构造请求的 HTTP Header\n",
    "    headers = {\n",
    "        \"Content-Type\": \"application/json\",\n",
    "        \"Authorization\": f\"Bearer {client.api_key}\"\n",
    "    }\n",
    "\n",
    "    # 构造请求的负载\n",
    "    payload = {\n",
    "        \"model\": \"gpt-4-turbo\",\n",
    "        \"messages\": [\n",
    "            {\n",
    "                \"role\": \"user\",\n",
    "                \"content\": [\n",
    "                    {\"type\": \"text\", \"text\": prompt},\n",
    "                    {\"type\": \"image_url\", \"image_url\": {\"url\": f\"data:image/jpeg;base64,{base64_image}\"}}\n",
    "                ]\n",
    "            }\n",
    "        ],\n",
    "        \"max_tokens\": max_tokens\n",
    "    }\n",
    "\n",
    "    # 发送 HTTP 请求\n",
    "    response = requests.post(\"https://api.xiaoai.plus/v1/chat/completions\", headers=headers, json=payload)\n",
    "\n",
    "    # 检查响应并提取所需的 content 字段\n",
    "    if response.status_code == 200:\n",
    "        response_data = response.json()\n",
    "        content = response_data['choices'][0]['message']['content']\n",
    "        return content\n",
    "    else:\n",
    "        return f\"Error: {response.status_code}, {response.text}\""
   ]
  },
  {
   "cell_type": "markdown",
   "id": "89dd0f99-8086-473f-80a4-497e6dd07c17",
   "metadata": {},
   "source": [
    "#### 使用 Assistants API生成的 GDP 40年对比曲线图\n",
    "\n",
    "![gdp_data](./images/gdp_1980_2020.jpg)"
   ]
  },
  {
   "cell_type": "code",
   "execution_count": 14,
   "id": "3c0e9063-e8d9-4bc1-ae60-ad0aa5bee32b",
   "metadata": {},
   "outputs": [
    {
     "name": "stdout",
     "output_type": "stream",
     "text": [
      "这幅图表展示了从1980年到2020年间，美国、中国、日本和德国的国内生产总值（GDP）比较。\n",
      "\n",
      "- 蓝色线代表美国的GDP，可以看到这个曲线呈稳步上升的趋势，表示美国经济持续增长。\n",
      "- 红色线表示中国的GDP，从图上可以明显看出，中国的经济增长非常迅速，特别是从2000年以后，增长速度明显加快，接近2020年时趋近美国的GDP。\n",
      "- 紫色线代表日本，日本的GDP在90年代后半期达到高峰后，增长缓慢甚至略有回落。\n",
      "- 绿色线代表德国，德国的GDP增长相对平稳，但增长速度较慢且在所示范围内较为稳定。\n",
      "\n",
      "从图表中可以分析各国的经济发展态势和相对经济实力的变化。\n"
     ]
    }
   ],
   "source": [
    "content = query_base64_image_description(\"./images/gdp_1980_2020.jpg\")\n",
    "print(content)"
   ]
  },
  {
   "cell_type": "markdown",
   "id": "6d18b227-32a6-4450-86bd-c99ad5c533b9",
   "metadata": {},
   "source": [
    "#### 使用 GPT-4V 识别手写体笔记\n",
    "\n",
    "![](./images/handwriting_0.jpg)"
   ]
  },
  {
   "cell_type": "code",
   "execution_count": 15,
   "id": "4193fa11-5edd-404c-9472-0cb8cc6799fc",
   "metadata": {},
   "outputs": [
    {
     "name": "stdout",
     "output_type": "stream",
     "text": [
      "这张图片显示的是一张笔记本的一页，其中主要介绍了几种基于Transformer的模型调优方法，特别是与自然语言处理（NLP）相关的技术。具体内容包括：\n",
      "\n",
      "1. **Prompt Tuning （提示调整）**: 这种方法在小模型中应用广泛，主要通过固定模型的参数，只调整输入到模型的几个特定词（prompt）的嵌入（embedding）来达到调整模型行为的目的。笔记中还提到了类似方法，利用词序列的变换和扩展。\n",
      "\n",
      "2. **Prefix Tuning（前缀调整）**: 这种技术也是通过不改变Transformer模型本身的参数，而是在输入序列前添加一段特定的序列（前缀），通过调整这些前缀来实现模型的微调。\n",
      "\n",
      "3. **LoRA（Low-Rank Adaptation，低秩适应）**: 这是一种通过调整模型权重的局部低秩结构来实现模型调整的方法。笔记中解释了LoRA的工作原理，即通过修改权重矩阵W，添加一个低秩矩阵ΔW来获得新的权重矩阵W+ΔW，从而达到调整模型输出的效果。\n",
      "\n",
      "笔记也提到了实际应用LoRA调整的存储需求数据，如使用LoRA模型调整后，存储需求从原来的78GB减少到4GB，显著降低了模型部署的资源需求。\n",
      "\n",
      "整体来看，这些内容涵盖了当前自然语言处理领域中关于如何有效且资源高效地利用已有大模型进行特定任务调整的若干重要方法与策略。\n"
     ]
    }
   ],
   "source": [
    "content = query_base64_image_description(\"./images/handwriting_0.jpg\")\n",
    "print(content)"
   ]
  },
  {
   "cell_type": "markdown",
   "id": "ca046601-018c-455c-ace2-41392cbda456",
   "metadata": {},
   "source": [
    "#### 在 Jupyter 标准输出中渲染 Markdown 格式内容"
   ]
  },
  {
   "cell_type": "code",
   "execution_count": 16,
   "id": "516ee35b-1337-4b22-aea2-ee0adb706098",
   "metadata": {},
   "outputs": [
    {
     "data": {
      "text/markdown": [
       "这张图片显示的是一张笔记本的一页，其中主要介绍了几种基于Transformer的模型调优方法，特别是与自然语言处理（NLP）相关的技术。具体内容包括：\n",
       "\n",
       "1. **Prompt Tuning （提示调整）**: 这种方法在小模型中应用广泛，主要通过固定模型的参数，只调整输入到模型的几个特定词（prompt）的嵌入（embedding）来达到调整模型行为的目的。笔记中还提到了类似方法，利用词序列的变换和扩展。\n",
       "\n",
       "2. **Prefix Tuning（前缀调整）**: 这种技术也是通过不改变Transformer模型本身的参数，而是在输入序列前添加一段特定的序列（前缀），通过调整这些前缀来实现模型的微调。\n",
       "\n",
       "3. **LoRA（Low-Rank Adaptation，低秩适应）**: 这是一种通过调整模型权重的局部低秩结构来实现模型调整的方法。笔记中解释了LoRA的工作原理，即通过修改权重矩阵W，添加一个低秩矩阵ΔW来获得新的权重矩阵W+ΔW，从而达到调整模型输出的效果。\n",
       "\n",
       "笔记也提到了实际应用LoRA调整的存储需求数据，如使用LoRA模型调整后，存储需求从原来的78GB减少到4GB，显著降低了模型部署的资源需求。\n",
       "\n",
       "整体来看，这些内容涵盖了当前自然语言处理领域中关于如何有效且资源高效地利用已有大模型进行特定任务调整的若干重要方法与策略。"
      ],
      "text/plain": [
       "<IPython.core.display.Markdown object>"
      ]
     },
     "metadata": {},
     "output_type": "display_data"
    }
   ],
   "source": [
    "from IPython.display import display, Markdown\n",
    "\n",
    "# 使用 display 和 Markdown 函数显示 Markdown 内容\n",
    "display(Markdown(content))"
   ]
  },
  {
   "cell_type": "markdown",
   "id": "b72ebbe3-87cc-4867-9cf0-62e5ed684482",
   "metadata": {},
   "source": [
    "![](./images/handwriting_1.jpg)"
   ]
  },
  {
   "cell_type": "code",
   "execution_count": 17,
   "id": "7c046958-aa7a-4066-88fa-4134869d9226",
   "metadata": {},
   "outputs": [
    {
     "data": {
      "text/markdown": [
       "这张图片显示的是一本笔记本的两页手写笔记，内容关注于深度学习与人工智能领域，主要讨论了自然语言处理（NLP）中的各种技术和方法。笔记提到了多种与转换器模型（Transformers）相关的优化技术和调整策略，如：\n",
       "\n",
       "1. **PEFT** (可能是指某种性能优化方法或框架) 和 **SOTA** (State of the Art 最先进的技术)。\n",
       "2. **PFFT Methods** (可能是某种算法或方法的缩写)。\n",
       "3. **Prompt Tuning** 和各种变体（如 Adapter, Prefix, P-tuning），这是调整预训练语言模型以适应特定任务的技术。\n",
       "4. **LORA** 和 **Qlora**，这些可能是指特定的调整方法或技术。\n",
       "5. **MAM Adapters** 和 **Scaled parallel adapter** 可能是指模型微调时使用的特殊结构或插件。\n",
       "6. 笔记还提到了多模态指令微调（Multi-modality Instruction Fine-Tuning）和几种具体模型，例如 **LLMs** (Large Language Models)，**LAVA (LLM)**，**Claude**，**BLOOM** 等。\n",
       "\n",
       "这些笔记看起来是对当前人工智能和机器学习领域中最先进技术的总结，特别是在如何有效地调整和改进大型语言模型以提高其性能方面。内容涉及不同的技术方法，反映了笔记者对这一领域深入的研究和理解。"
      ],
      "text/plain": [
       "<IPython.core.display.Markdown object>"
      ]
     },
     "metadata": {},
     "output_type": "display_data"
    }
   ],
   "source": [
    "content = query_base64_image_description(\"./images/handwriting_1.jpg\")\n",
    "display(Markdown(content))"
   ]
  },
  {
   "cell_type": "code",
   "execution_count": 21,
   "id": "156a0f17-cca8-4f01-9ce5-53384b5ffda4",
   "metadata": {},
   "outputs": [
    {
     "data": {
      "text/markdown": [
       "这张图片展示了一段手写的中文文字，写在有横线的纸上。内容如下：\n",
       "\n",
       "人生路如涛中航，风云变换景色殊。\n",
       "夜渐尽云高星越少，何明更添一份愁。\n",
       "诗酒趁年华尽快行乐，枉求一滴，情怀放意。\n",
       "看清世界形似何状观我慷慨，\n",
       "感悟人生从他处回首寻来迹，\n",
       "下一次风情，终将莫逆携自由缱绻。\n",
       "\n",
       "这首诗歌似乎表达了一种对人生无常和转瞬即逝美好时光的感慨。诗人通过比喻和意象来描述人生旅程的复杂性和不可预测性，同时也展现了对人生深处寻求自由和真实感悟的渴望。"
      ],
      "text/plain": [
       "<IPython.core.display.Markdown object>"
      ]
     },
     "metadata": {},
     "output_type": "display_data"
    }
   ],
   "source": [
    "content = query_base64_image_description(\"./images/hand_writing_3.jpg\")\n",
    "display(Markdown(content))\n",
    "with open('./images/hand_writing_3.md','w',encoding='utf-8') as file:\n",
    "    file.write(content)\n"
   ]
  },
  {
   "cell_type": "code",
   "execution_count": null,
   "id": "e3bd772f-9492-4f6c-b05a-666b772ca3c9",
   "metadata": {},
   "outputs": [],
   "source": []
  },
  {
   "cell_type": "code",
   "execution_count": null,
   "id": "8afdeacb-aac1-4692-be2b-fb7957ba5e8f",
   "metadata": {},
   "outputs": [],
   "source": []
  },
  {
   "cell_type": "markdown",
   "id": "79a8d459-d98e-4215-9fbf-38ad37080475",
   "metadata": {},
   "source": [
    "## Homework: \n",
    "\n",
    "\n",
    "### #1\n",
    "\n",
    "使用 GPT-4V 识别带有手写体文字的本地图像文件，分享结果。\n",
    "\n",
    "### #2\n",
    "\n",
    "整合 `query_base64_image_description` 函数和 Markdown 格式渲染方法，使得输出结果更易阅读。"
   ]
  },
  {
   "cell_type": "code",
   "execution_count": 23,
   "id": "0909bf27-9c4a-498c-9fae-0f442062b9a8",
   "metadata": {},
   "outputs": [
    {
     "data": {
      "text/markdown": [
       "这段文字用书信格式表达了作者内心的复杂情感。整体其通过诗化和稍带悲哀的语调，给读者一种深沉的情感体验。这是一封写给一个亲密但已分隔两地的朋友的情书，表达了作者对这段友情的无限留恋和不舍。\n",
       "\n",
       "作者用“人生荒漠黯然，我向荒漠问。”这句话开头，暗喻自己的生活因为缺少了那个朋友的存在而变得空虚寂寞。通过询问荒漠，作者表达了对自己孤单生活的反思和对朋友的深切思念。\n",
       "\n",
       "“脸颊已无法感受到你中原的一缕风”这句话，则通过风的缠绕和感受的缺失，形象地表达了两地分隔带来的感情断裂和物理上的隔阂。风，在这里，成了两人情感连接的隐喻，而感受不到风，则象征着这种连接的中断。\n",
       "\n",
       "作者在接下来的内容中，“孤独的虫鸣夜夜入梦，润湿了枕，疼痛不已”这样的描述，运用了夜晚、虫鸣和入梦的意象，营造出一种静而不安的夜晚氛围。加之“润湿了枕，疼痛不已”，则暗喻着内心的悲痛和泪水的流连。\n",
       "\n",
       "最后，“我将在我得镜中再见你的倩影，缠绵在梦境的边缘”这句，用梦境作为相会的场所，不仅描绘了一种无奈的现实中的渴望和希望，也表达了通过梦境与亲友继续心灵上的对话与相遇。\n",
       "\n",
       "整体上，这段文字以一种既悲伤又美丽的方式，刻画了人与人之间情感的深刻与复杂，通过浓厚的情感色彩和生动的修辭手法，使读者能够深切感受到文字背后的情感重量。"
      ],
      "text/plain": [
       "<IPython.core.display.Markdown object>"
      ]
     },
     "metadata": {},
     "output_type": "display_data"
    }
   ],
   "source": [
    "def query_base64_image_description_v2(image_path, prompt, max_tokens=1000):\n",
    "    content = query_base64_image_description(image_path,prompt)\n",
    "    display(Markdown(content))\n",
    "query_base64_image_description_v2(\"./images/hand_writing_3.jpg\",\"下面是一些手寫的字體，請你幫忙用修辭手法生動解釋一下的内容\")\n",
    "\n",
    "with open('./images/hand_writing_3.md','w',encoding='utf-8') as file:\n",
    "    file.write(content)"
   ]
  },
  {
   "cell_type": "code",
   "execution_count": null,
   "id": "cee67a99-0f53-41b7-a937-a5035d0b5263",
   "metadata": {},
   "outputs": [],
   "source": []
  }
 ],
 "metadata": {
  "kernelspec": {
   "display_name": "langchain",
   "language": "python",
   "name": "langchain"
  },
  "language_info": {
   "codemirror_mode": {
    "name": "ipython",
    "version": 3
   },
   "file_extension": ".py",
   "mimetype": "text/x-python",
   "name": "python",
   "nbconvert_exporter": "python",
   "pygments_lexer": "ipython3",
   "version": "3.10.14"
  }
 },
 "nbformat": 4,
 "nbformat_minor": 5
}
